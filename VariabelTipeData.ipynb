{
 "cells": [
  {
   "cell_type": "markdown",
   "id": "e47e5610",
   "metadata": {},
   "source": [
    "<h1>Variabel dan Tipe Data Python</h1>\n",
    "<font color=\"blue\">Beberapa</font> aturan pembuatan variabel di <b>pyhton</b>:\n",
    " \n",
    "<ol>\n",
    "    <li>Bersifat case sensitif => A != a</li>\n",
    "    <li>Harus diawali dengan huruf atau karakter _(underscore)</li>\n",
    "    <li>Tidak boleh menggunakan spasi</li>\n",
    "    <li>Boleh menggunakan angka</li>\n",
    "</ol>"
   ]
  },
  {
   "cell_type": "code",
   "execution_count": 1,
   "id": "b199998f",
   "metadata": {},
   "outputs": [
    {
     "name": "stdout",
     "output_type": "stream",
     "text": [
      "1\n",
      "100.9\n",
      "1\n",
      "True\n"
     ]
    }
   ],
   "source": [
    "data_int = 10\n",
    "data_float = 100.9\n",
    "data_string = '1'\n",
    "data_bool = True\n",
    "\n",
    "print(data_string)\n",
    "print(data_float)\n",
    "print(data_string)\n",
    "print(data_bool)"
   ]
  },
  {
   "cell_type": "markdown",
   "id": "97e39ece",
   "metadata": {},
   "source": [
    "Untuk mengetahui tipe data dari sebuah variabel gunakan command <b>type</b>"
   ]
  },
  {
   "cell_type": "code",
   "execution_count": 2,
   "id": "55dc17f3",
   "metadata": {},
   "outputs": [
    {
     "name": "stdout",
     "output_type": "stream",
     "text": [
      "<class 'int'>\n",
      "<class 'float'>\n",
      "<class 'str'>\n",
      "<class 'bool'>\n"
     ]
    }
   ],
   "source": [
    "print(type(data_int))\n",
    "print(type(data_float))\n",
    "print(type(data_string))\n",
    "print(type(data_bool))"
   ]
  },
  {
   "cell_type": "markdown",
   "id": "5dbb1886",
   "metadata": {},
   "source": [
    "Pada python terdapat proses <b>CASTING</b> yaitu konversi dari sebuah tipe data ke tipe data yang lain yaitu dengan sintaks <b>tipe_data(nama_variabel)</b>"
   ]
  },
  {
   "cell_type": "code",
   "execution_count": 8,
   "id": "20a6de78",
   "metadata": {},
   "outputs": [
    {
     "name": "stdout",
     "output_type": "stream",
     "text": [
      "Nilai variabel data_int= 10\n",
      "10.0\n",
      "10\n",
      "True\n"
     ]
    }
   ],
   "source": [
    "int_to_float = float(data_int)\n",
    "int_to_string = str(data_int) \n",
    "int_to_bool = bool(data_int)\n",
    "\n",
    "print(\"Nilai variabel data_int=\",data_int)\n",
    "print(int_to_float)\n",
    "print(int_to_string)\n",
    "print(int_to_bool)"
   ]
  },
  {
   "cell_type": "code",
   "execution_count": 14,
   "id": "1f6ddd5c",
   "metadata": {},
   "outputs": [
    {
     "name": "stdout",
     "output_type": "stream",
     "text": [
      "nilai variabel data_float 100.9\n",
      "100\n",
      "100.9\n",
      "True\n"
     ]
    }
   ],
   "source": [
    "float_to_int = int(data_float)\n",
    "float_to_string = str(data_float)\n",
    "float_to_bool = bool(data_float)\n",
    "\n",
    "print(\"nilai variabel data_float\",data_float)\n",
    "print(float_to_int)\n",
    "print(float_to_string)\n",
    "print(float_to_bool)"
   ]
  },
  {
   "cell_type": "code",
   "execution_count": 15,
   "id": "3e93d67b",
   "metadata": {
    "scrolled": true
   },
   "outputs": [
    {
     "name": "stdout",
     "output_type": "stream",
     "text": [
      "nilai variabel data_float 1\n",
      "1\n",
      "1\n",
      "True\n"
     ]
    }
   ],
   "source": [
    "string_to_int = int(data_string)\n",
    "string_to_float = str(data_string)\n",
    "string_to_bool = bool(data_string)\n",
    "\n",
    "print(\"nilai variabel data_float\",data_string)\n",
    "print(string_to_int)\n",
    "print(string_to_float)\n",
    "print(string_to_bool)\n",
    "\n"
   ]
  },
  {
   "cell_type": "code",
   "execution_count": 16,
   "id": "5b068062",
   "metadata": {},
   "outputs": [
    {
     "name": "stdout",
     "output_type": "stream",
     "text": [
      "nilai variabel data_bool True\n",
      "1\n",
      "1.0\n",
      "True\n"
     ]
    }
   ],
   "source": [
    "bool_to_int = int(data_bool)\n",
    "bool_to_float = float(data_bool)\n",
    "bool_to_string = str(data_bool)\n",
    "\n",
    "print(\"nilai variabel data_bool\",data_bool)\n",
    "print(bool_to_int)\n",
    "print(bool_to_float)\n",
    "print(bool_to_string)\n"
   ]
  },
  {
   "cell_type": "code",
   "execution_count": 21,
   "id": "079f2208",
   "metadata": {},
   "outputs": [
    {
     "name": "stdout",
     "output_type": "stream",
     "text": [
      "Isikan bilangan 134\n",
      "Isikab bilangan 26\n",
      "Hasil Penjumlahan 40.0\n",
      "Hasil Pembagian 5.666666666666667\n"
     ]
    }
   ],
   "source": [
    "bil1 = float(input(\"Isikan bilangan 1\"))\n",
    "bil2 =  float(input(\"Isikab bilangan 2\"))\n",
    "hasil_tambah = (bil1) + int(bil2)\n",
    "hasil_bagi = bil1 / bil2\n",
    "print(\"Hasil Penjumlahan\",hasil_tambah)\n",
    "print(\"Hasil Pembagian\",hasil_bagi)\n",
    "\n"
   ]
  },
  {
   "cell_type": "raw",
   "id": "d55aebcf",
   "metadata": {},
   "source": []
  }
 ],
 "metadata": {
  "kernelspec": {
   "display_name": "Python 3 (ipykernel)",
   "language": "python",
   "name": "python3"
  },
  "language_info": {
   "codemirror_mode": {
    "name": "ipython",
    "version": 3
   },
   "file_extension": ".py",
   "mimetype": "text/x-python",
   "name": "python",
   "nbconvert_exporter": "python",
   "pygments_lexer": "ipython3",
   "version": "3.9.12"
  }
 },
 "nbformat": 4,
 "nbformat_minor": 5
}
